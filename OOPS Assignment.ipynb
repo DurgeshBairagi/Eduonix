{
 "cells": [
  {
   "cell_type": "code",
   "execution_count": 3,
   "id": "24c4043d",
   "metadata": {},
   "outputs": [
    {
     "name": "stdout",
     "output_type": "stream",
     "text": [
      "Horn\n",
      "Maximum speed is 210Km/H\n"
     ]
    }
   ],
   "source": [
    "class Car:\n",
    "    \n",
    "    def __init__(self, name, price, colour, speed):\n",
    "        self.name = name\n",
    "        self.price = price\n",
    "        self.colour = colour\n",
    "        self.speed = speed\n",
    "    \n",
    "    def sound(self):\n",
    "        print('Horn')\n",
    "    \n",
    "    def get_speed(self):\n",
    "        print('Maximum speed is {}'.format(self.speed))\n",
    "        \n",
    "    def display(self):\n",
    "        self.sound()\n",
    "        self.get_speed()\n",
    "        \n",
    "class Thar(Car):\n",
    "    def show(self):\n",
    "        super().sound()\n",
    "        super().get_speed()\n",
    "        \n",
    "Jaguar = Thar('Jaguar', '50,0000', 'Black', '210Km/H')\n",
    "\n",
    "Jaguar.show()"
   ]
  },
  {
   "cell_type": "code",
   "execution_count": 5,
   "id": "118448c5",
   "metadata": {},
   "outputs": [
    {
     "name": "stdout",
     "output_type": "stream",
     "text": [
      "Enter Numerator: 3\n",
      "Enter Denominator: 0\n",
      "Learn Maths Basic Rules once Again\n"
     ]
    }
   ],
   "source": [
    "Num = int(input('Enter Numerator: '))\n",
    "Denom = int(input('Enter Denominator: '))\n",
    "\n",
    "try:\n",
    "    x = Num/Denom\n",
    "    print(x)\n",
    "\n",
    "except ZeroDivisionError:\n",
    "    print('Learn Maths Basic Rules once Again')"
   ]
  },
  {
   "cell_type": "code",
   "execution_count": null,
   "id": "ee0e3fd3",
   "metadata": {},
   "outputs": [],
   "source": []
  }
 ],
 "metadata": {
  "kernelspec": {
   "display_name": "Python 3 (ipykernel)",
   "language": "python",
   "name": "python3"
  },
  "language_info": {
   "codemirror_mode": {
    "name": "ipython",
    "version": 3
   },
   "file_extension": ".py",
   "mimetype": "text/x-python",
   "name": "python",
   "nbconvert_exporter": "python",
   "pygments_lexer": "ipython3",
   "version": "3.9.13"
  }
 },
 "nbformat": 4,
 "nbformat_minor": 5
}
