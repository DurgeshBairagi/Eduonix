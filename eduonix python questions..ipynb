{
 "cells": [
  {
   "cell_type": "markdown",
   "id": "ad88aedf",
   "metadata": {},
   "source": [
    "# Python"
   ]
  },
  {
   "cell_type": "markdown",
   "id": "8fa37715",
   "metadata": {},
   "source": [
    "# 1.Write a program using list comprehension to find primes \n",
    "in range 2 to 100."
   ]
  },
  {
   "cell_type": "code",
   "execution_count": 3,
   "id": "bea63e85",
   "metadata": {},
   "outputs": [],
   "source": [
    "value = 101\n",
    "prime = [x for x in range(2, value) if all(x % y != 0 for y in range(2, x))]\n"
   ]
  },
  {
   "cell_type": "code",
   "execution_count": 2,
   "id": "258fc143",
   "metadata": {},
   "outputs": [
    {
     "name": "stdout",
     "output_type": "stream",
     "text": [
      "[2, 3, 5, 7, 11, 13, 17, 19, 23, 29, 31, 37, 41, 43, 47, 53, 59, 61, 67, 71, 73, 79, 83, 89, 97]\n"
     ]
    }
   ],
   "source": [
    "print(prime)\n"
   ]
  },
  {
   "cell_type": "markdown",
   "id": "018a2d33",
   "metadata": {},
   "source": [
    "# 2.Write a function to reverse a string"
   ]
  },
  {
   "cell_type": "markdown",
   "id": "50a6925b",
   "metadata": {},
   "source": [
    "string='reverse a string'"
   ]
  },
  {
   "cell_type": "code",
   "execution_count": 42,
   "id": "3c8bd885",
   "metadata": {},
   "outputs": [
    {
     "name": "stdout",
     "output_type": "stream",
     "text": [
      "Enter String Here: reverse a string\n"
     ]
    },
    {
     "data": {
      "text/plain": [
       "'gnirts a esrever'"
      ]
     },
     "execution_count": 42,
     "metadata": {},
     "output_type": "execute_result"
    }
   ],
   "source": [
    "string=input('Enter String Here: ')\n",
    "\n",
    "string[::-1]"
   ]
  },
  {
   "cell_type": "markdown",
   "id": "493b9f78",
   "metadata": {},
   "source": [
    "# 3.Write a program to extract the words from the given list which have their first character in uppercase. Days = ['Monday', 'tuesday','friday', 'Sunday', 'Saturday']\n",
    "\n",
    "Output: ['Monday', 'Sunday', 'Saturday'"
   ]
  },
  {
   "cell_type": "code",
   "execution_count": 40,
   "id": "84597eee",
   "metadata": {},
   "outputs": [],
   "source": [
    " Days = ['Monday', 'tuesday','friday', 'Sunday', 'Saturday']"
   ]
  },
  {
   "cell_type": "code",
   "execution_count": 41,
   "id": "0ccf1f94",
   "metadata": {},
   "outputs": [
    {
     "data": {
      "text/plain": [
       "['Monday', 'Sunday', 'Saturday']"
      ]
     },
     "execution_count": 41,
     "metadata": {},
     "output_type": "execute_result"
    }
   ],
   "source": [
    "Output1 = []\n",
    "for x in range(0,5):\n",
    "    if Days[x][0]==Days[x][0].upper():\n",
    "        Output1.append(Days[x])\n",
    "Output1"
   ]
  },
  {
   "cell_type": "markdown",
   "id": "094d948f",
   "metadata": {},
   "source": [
    "# 4.Write a program to extract the year part from the dates in \n",
    "the given list.\n",
    "\n",
    "Batch = ['15-06-1997','15-06-2011','15-06-1993','15-06-2020']\n",
    "\n",
    "Output: ['1997','2011','1993','2020']"
   ]
  },
  {
   "cell_type": "code",
   "execution_count": 8,
   "id": "e3e68727",
   "metadata": {},
   "outputs": [],
   "source": [
    "Batch = ['15-06-1997','15-06-2011','15-06-1993','15-06-2020']"
   ]
  },
  {
   "cell_type": "code",
   "execution_count": 10,
   "id": "b0da4724",
   "metadata": {},
   "outputs": [
    {
     "data": {
      "text/plain": [
       "['1997', '2011', '1993', '2020']"
      ]
     },
     "execution_count": 10,
     "metadata": {},
     "output_type": "execute_result"
    }
   ],
   "source": [
    "Output2 = []\n",
    "for x in Batch:\n",
    "    Output2.append(x[-4:])\n",
    "    \n",
    "Output2"
   ]
  },
  {
   "cell_type": "markdown",
   "id": "3fc0632a",
   "metadata": {},
   "source": [
    "# 5.Write a program swap the keys to values and values to keys of the given dictionary. \n",
    "\n",
    "Module = {'Data Science':1,'Machine Learning':2, 'SQL':3, 'Big Data':4} \n",
    "\n",
    "Output: {1:'Data Science',2:'Machine Learning', 3:'SQL', 4:'Big Data'}"
   ]
  },
  {
   "cell_type": "code",
   "execution_count": 13,
   "id": "84f82c00",
   "metadata": {},
   "outputs": [],
   "source": [
    "Module = {'Data Science':1,'Machine Learning':2, 'SQL':3, 'Big Data':4}"
   ]
  },
  {
   "cell_type": "code",
   "execution_count": 17,
   "id": "5cc13440",
   "metadata": {},
   "outputs": [],
   "source": [
    "Output3 = {values:keys for keys,values in Module.items()}"
   ]
  },
  {
   "cell_type": "code",
   "execution_count": 18,
   "id": "6bcda571",
   "metadata": {},
   "outputs": [
    {
     "data": {
      "text/plain": [
       "{1: 'Data Science', 2: 'Machine Learning', 3: 'SQL', 4: 'Big Data'}"
      ]
     },
     "execution_count": 18,
     "metadata": {},
     "output_type": "execute_result"
    }
   ],
   "source": [
    "Output3"
   ]
  },
  {
   "cell_type": "markdown",
   "id": "99c46d7d",
   "metadata": {},
   "source": [
    "# 6.Write a program to count the number of elements in the string (given by the user) that are not present in the 'my_string'. \n",
    "\n",
    "Do not count the white spaces.\n",
    "\n",
    "my_string = 'Data Science'"
   ]
  },
  {
   "cell_type": "code",
   "execution_count": 1,
   "id": "b06572fa",
   "metadata": {},
   "outputs": [
    {
     "name": "stdout",
     "output_type": "stream",
     "text": [
      "Enter a string: black fire\n",
      "The number of elements in the string that are not present in my_string is: 5\n"
     ]
    }
   ],
   "source": [
    "my_string = 'Data Science'\n",
    "\n",
    "user_string = input(\"Enter a string: \")\n",
    "user_string = user_string.replace(\" \", \"\")\n",
    "\n",
    "my_set = set(my_string)\n",
    "count = 0\n",
    "\n",
    "for char in user_string:\n",
    "    if char not in my_set:\n",
    "        count += 1\n",
    "\n",
    "print(\"The number of elements in the string that are not present in my_string is:\", count)"
   ]
  },
  {
   "cell_type": "markdown",
   "id": "9d8337ba",
   "metadata": {},
   "source": [
    "# 7.Define a function to check whether a number is in a range (1000,10000) or not."
   ]
  },
  {
   "cell_type": "code",
   "execution_count": 25,
   "id": "e3a1c4ae",
   "metadata": {},
   "outputs": [
    {
     "name": "stdout",
     "output_type": "stream",
     "text": [
      "Enter your number: 9400\n",
      "9400 is in range of 1000, 10000\n"
     ]
    }
   ],
   "source": [
    "n = int(input('Enter your number: '))\n",
    "\n",
    "def check_range(n):\n",
    "    if n in range(1000, 10001):\n",
    "        print(n,\"is in range of 1000, 10000\")\n",
    "    else:\n",
    "        print(n,\"is not in range of 1000, 10000\")\n",
    "        \n",
    "check_range(n)"
   ]
  },
  {
   "cell_type": "code",
   "execution_count": null,
   "id": "6a506a99",
   "metadata": {},
   "outputs": [],
   "source": []
  },
  {
   "cell_type": "markdown",
   "id": "21c98915",
   "metadata": {},
   "source": [
    "# 8.Write a program to calculate the sum of all elements in the list.\n",
    "\n",
    "test_score = [10, 32, 23, 14, 25]"
   ]
  },
  {
   "cell_type": "code",
   "execution_count": 28,
   "id": "966743cc",
   "metadata": {},
   "outputs": [],
   "source": [
    "import numpy as np"
   ]
  },
  {
   "cell_type": "code",
   "execution_count": 27,
   "id": "90d834f1",
   "metadata": {},
   "outputs": [],
   "source": [
    "test_score = [10, 32, 23, 14, 25]"
   ]
  },
  {
   "cell_type": "code",
   "execution_count": 29,
   "id": "d39b37a2",
   "metadata": {},
   "outputs": [
    {
     "data": {
      "text/plain": [
       "104"
      ]
     },
     "execution_count": 29,
     "metadata": {},
     "output_type": "execute_result"
    }
   ],
   "source": [
    "sum(test_score)\n"
   ]
  },
  {
   "cell_type": "markdown",
   "id": "d083692d",
   "metadata": {},
   "source": [
    "# 9.Replace all even numbers in the array with -1.\n",
    "\n",
    "Use the array given below num_array = np.array([0, 21, 32, 13, 44, 45, 26, 28, 38, 34, 65, 48, 76])"
   ]
  },
  {
   "cell_type": "code",
   "execution_count": 36,
   "id": "642b1a65",
   "metadata": {},
   "outputs": [
    {
     "name": "stdout",
     "output_type": "stream",
     "text": [
      "[-1, 21, -1, 13, -1, 45, -1, -1, -1, -1, 65, -1, -1]\n"
     ]
    }
   ],
   "source": [
    "num_array = np.array([0, 21, 32, 13, 44, 45, 26, 28, 38, 34, 65, 48, 76])\n",
    "new_array = []\n",
    "\n",
    "for x in num_array:\n",
    "    if x%2==0:\n",
    "        new_array.append(-1)\n",
    "    else:\n",
    "        new_array.append(x)\n",
    "\n",
    "num_array = new_array\n",
    "\n",
    "print(num_array)"
   ]
  },
  {
   "cell_type": "markdown",
   "id": "2e36cc99",
   "metadata": {},
   "source": [
    "# 10.Find the minimum value along each of the rows. \n",
    "\n",
    "Create a 2D Numpy array from list of lists \n",
    "\n",
    "Score = np.array([[210, 402, 383], [140, 375, 106], [140, 125, 217], [292, 240, 295]])"
   ]
  },
  {
   "cell_type": "code",
   "execution_count": 37,
   "id": "a08b0b0e",
   "metadata": {},
   "outputs": [
    {
     "name": "stdout",
     "output_type": "stream",
     "text": [
      "[210, 106, 125, 240]\n"
     ]
    }
   ],
   "source": [
    "Score = np.array([[210, 402, 383], [140, 375, 106], [140, 125, 217], [292, 240, 295]])\n",
    "\n",
    "min_val = []\n",
    "for x in Score:\n",
    "    min_val.append(x.min())\n",
    "\n",
    "print(min_val)"
   ]
  },
  {
   "cell_type": "code",
   "execution_count": 38,
   "id": "97ce92c2",
   "metadata": {},
   "outputs": [
    {
     "name": "stdout",
     "output_type": "stream",
     "text": [
      "[[210 402 383 140 375 106]\n",
      " [140 125 217 292 240 295]]\n"
     ]
    }
   ],
   "source": [
    "Score = Score.reshape(2,6)\n",
    "print(Score)\n",
    "print(Score.ndim)"
   ]
  },
  {
   "cell_type": "code",
   "execution_count": 39,
   "id": "d41451b4",
   "metadata": {},
   "outputs": [
    {
     "name": "stdout",
     "output_type": "stream",
     "text": [
      "2\n"
     ]
    }
   ],
   "source": [
    "print(Score.ndim)"
   ]
  }
 ],
 "metadata": {
  "kernelspec": {
   "display_name": "Python 3 (ipykernel)",
   "language": "python",
   "name": "python3"
  },
  "language_info": {
   "codemirror_mode": {
    "name": "ipython",
    "version": 3
   },
   "file_extension": ".py",
   "mimetype": "text/x-python",
   "name": "python",
   "nbconvert_exporter": "python",
   "pygments_lexer": "ipython3",
   "version": "3.9.13"
  }
 },
 "nbformat": 4,
 "nbformat_minor": 5
}
